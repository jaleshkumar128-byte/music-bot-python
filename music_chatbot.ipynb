{
 "cells": [
  {
   "cell_type": "code",
   "execution_count": 1,
   "id": "99f54704-db8f-4a3f-9958-1a97c1ce51c1",
   "metadata": {},
   "outputs": [
    {
     "name": "stdout",
     "output_type": "stream",
     "text": [
      "Collecting pytube\n",
      "  Downloading pytube-15.0.0-py3-none-any.whl.metadata (5.0 kB)\n",
      "Downloading pytube-15.0.0-py3-none-any.whl (57 kB)\n",
      "Installing collected packages: pytube\n",
      "Successfully installed pytube-15.0.0\n",
      "Note: you may need to restart the kernel to use updated packages.\n"
     ]
    },
    {
     "name": "stderr",
     "output_type": "stream",
     "text": [
      "\n",
      "[notice] A new release of pip is available: 24.3.1 -> 25.3\n",
      "[notice] To update, run: python.exe -m pip install --upgrade pip\n"
     ]
    }
   ],
   "source": [
    "pip install pytube\n"
   ]
  },
  {
   "cell_type": "code",
   "execution_count": 2,
   "id": "a89273a2-2b4f-47b9-a10d-9e47194ffdba",
   "metadata": {},
   "outputs": [],
   "source": [
    "from pytube import Search\n",
    "import webbrowser\n"
   ]
  },
  {
   "cell_type": "code",
   "execution_count": 3,
   "id": "bba9ad08-6cf1-41c0-9742-5a216381e96a",
   "metadata": {},
   "outputs": [],
   "source": [
    "def search_songs(singer_name):\n",
    "    # Search YouTube for top songs of the singer\n",
    "    search = Search(singer_name + \" top songs\")\n",
    "    results = search.results[:10]  # Take top 10 results\n",
    "    songs = []\n",
    "    for idx, video in enumerate(results):\n",
    "        songs.append((idx+1, video.title, video.watch_url))\n",
    "    return songs\n"
   ]
  },
  {
   "cell_type": "code",
   "execution_count": 4,
   "id": "42640b09-31a3-47a4-b3b0-576e18f7ce24",
   "metadata": {},
   "outputs": [],
   "source": [
    "def choose_and_play(songs):\n",
    "    for s in songs:\n",
    "        print(f\"{s[0]}. {s[1]}\")  # Display song number + title\n",
    "\n",
    "    choice = int(input(\"Choose a song number to play: \"))\n",
    "    song_url = songs[choice-1][2]  # Get the video URL\n",
    "    webbrowser.open(song_url)  # Open in browser\n"
   ]
  },
  {
   "cell_type": "code",
   "execution_count": 8,
   "id": "905ac2f3-6ef0-440d-9a58-1b4e43d414eb",
   "metadata": {},
   "outputs": [
    {
     "name": "stdin",
     "output_type": "stream",
     "text": [
      "Enter singer name (or type 'exit' to quit):  Arijit Singh\n"
     ]
    },
    {
     "name": "stderr",
     "output_type": "stream",
     "text": [
      "Unexpected renderer encountered.\n",
      "Renderer name: dict_keys(['lockupViewModel'])\n",
      "Search term: Arijit Singh top songs\n",
      "Please open an issue at https://github.com/pytube/pytube/issues and provide this log output.\n",
      "Unexpected renderer encountered.\n",
      "Renderer name: dict_keys(['gridShelfViewModel'])\n",
      "Search term: Arijit Singh top songs\n",
      "Please open an issue at https://github.com/pytube/pytube/issues and provide this log output.\n",
      "Unexpected renderer encountered.\n",
      "Renderer name: dict_keys(['gridShelfViewModel'])\n",
      "Search term: Arijit Singh top songs\n",
      "Please open an issue at https://github.com/pytube/pytube/issues and provide this log output.\n"
     ]
    },
    {
     "name": "stdout",
     "output_type": "stream",
     "text": [
      "1. Best Of Arijit Singh 2024 | Arijit Singh Hits Songs | Arijit Singh Jukebox Songs | Indian Songs\n",
      "2. Best Of Arijit Singh 2024 | Arijit Singh Hits Songs | Arijit Singh Jukebox Songs | Indian Songs\n",
      "3. LONG DRIVE Bollywood Mix - Arijit Singh | Full Album | 2 Hour Nonstop | Apna Bana Le, Zaalima & More\n",
      "4. Best Of Arijit Singh Romantic Songs |#arijitsingh #romanticsongs #bestofbest Arijit Singh all Sonng\n",
      "5. Top 6 sad songs of Arijit singh | Arijit singh sad songs | sad songs | sad songs list |\n",
      "6. Best Romantic Songs by Arijit Singh | Top 13 Love Hits\n",
      "7. Badshah X Arijit Singh - Soulmate (Live Video) | Ek THA RAJA\n",
      "8. Best Of Arijit Singh / Old Hits Song / Top 10 All time Hits song / Arijit Singh old songs\n",
      "9. Best Of Arijit Singh 2024 | Arijit Singh Hits Songs | Arijit Singh Jukebox Songs | MX Player Shows\n",
      "10. Best Of Arijit Singh 2024 | Arijit Singh Hits Songs | Arijit Singh Jukebox Songs\n"
     ]
    },
    {
     "name": "stdin",
     "output_type": "stream",
     "text": [
      "Choose a song number to play:  7\n",
      "Enter singer name (or type 'exit' to quit):  exit\n"
     ]
    }
   ],
   "source": [
    "while True:\n",
    "    singer = input(\"Enter singer name (or type 'exit' to quit): \")\n",
    "    if singer.lower() in [\"exit\", \"quit\"]:\n",
    "        break\n",
    "\n",
    "    songs = search_songs(singer)\n",
    "    if songs:\n",
    "        choose_and_play(songs)\n",
    "    else:\n",
    "        print(\"No songs found for this singer.\")\n"
   ]
  },
  {
   "cell_type": "code",
   "execution_count": null,
   "id": "70e95b5c-e4e2-44b5-8692-1d9fac0e272d",
   "metadata": {},
   "outputs": [],
   "source": []
  }
 ],
 "metadata": {
  "kernelspec": {
   "display_name": "Python 3 (ipykernel)",
   "language": "python",
   "name": "python3"
  },
  "language_info": {
   "codemirror_mode": {
    "name": "ipython",
    "version": 3
   },
   "file_extension": ".py",
   "mimetype": "text/x-python",
   "name": "python",
   "nbconvert_exporter": "python",
   "pygments_lexer": "ipython3",
   "version": "3.13.7"
  }
 },
 "nbformat": 4,
 "nbformat_minor": 5
}
